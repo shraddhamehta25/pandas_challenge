{
 "cells": [
  {
   "attachments": {},
   "cell_type": "markdown",
   "metadata": {},
   "source": [
    "# PyCity Schools Analysis\n",
    "\n",
    "- Your analysis here\n",
    "  \n",
    "School Type Performance: Charter schools outperform District schools in all metrics. Charter schools have higher average math and reading scores, as well as higher percentages of students passing math, reading, and both subjects combined.\r\n",
    "\r\n",
    "Math and Reading Scores: On average, students in PyCity perform better in reading than in math across all schools. This is evident from the higher average reading scores compared to average math scores.\r\n",
    "\r\n",
    "Passing Rates: The passing rates for both math and reading, as well as the overall passing rate (students passing both math and reading), are significantly higher in Charter schools compared to District schools.\r\n",
    "\r\n",
    "School Size: There doesn't appear to be a clear correlation between school size and academic performance. However, further analysis may be needed to understand any potential trends.\r\n",
    "\r\n",
    "Per Student Budget: Higher per student budgets do not necessarily correlate with higher academic performance. This suggests that factors other than budget allocation may influence school performance.\r\n",
    "\r\n",
    "Grade-Level Performance: There may be variations in performance between different grades within the same school. Further analysis by grade level could provide insights into areas of improvement.\r\n",
    "\r\n",
    "Overall, the data suggests that school type (Charter vs. District) is a significant factor influencing academic performance in PyCity, with Charter schools consistently outperforming District schools. Further investigation into the practices and policies of Charter schools could provide insights into potential strategies for improving academic outcomes across all schools in PyCity."
   ]
  },
  {
   "cell_type": "code",
   "execution_count": 1,
   "metadata": {},
   "outputs": [
    {
     "data": {
      "text/html": [
       "<div>\n",
       "<style scoped>\n",
       "    .dataframe tbody tr th:only-of-type {\n",
       "        vertical-align: middle;\n",
       "    }\n",
       "\n",
       "    .dataframe tbody tr th {\n",
       "        vertical-align: top;\n",
       "    }\n",
       "\n",
       "    .dataframe thead th {\n",
       "        text-align: right;\n",
       "    }\n",
       "</style>\n",
       "<table border=\"1\" class=\"dataframe\">\n",
       "  <thead>\n",
       "    <tr style=\"text-align: right;\">\n",
       "      <th></th>\n",
       "      <th>Student ID</th>\n",
       "      <th>student_name</th>\n",
       "      <th>gender</th>\n",
       "      <th>grade</th>\n",
       "      <th>school_name</th>\n",
       "      <th>reading_score</th>\n",
       "      <th>math_score</th>\n",
       "      <th>School ID</th>\n",
       "      <th>type</th>\n",
       "      <th>size</th>\n",
       "      <th>budget</th>\n",
       "    </tr>\n",
       "  </thead>\n",
       "  <tbody>\n",
       "    <tr>\n",
       "      <th>0</th>\n",
       "      <td>0</td>\n",
       "      <td>Paul Bradley</td>\n",
       "      <td>M</td>\n",
       "      <td>9th</td>\n",
       "      <td>Huang High School</td>\n",
       "      <td>66</td>\n",
       "      <td>79</td>\n",
       "      <td>0</td>\n",
       "      <td>District</td>\n",
       "      <td>2917</td>\n",
       "      <td>1910635</td>\n",
       "    </tr>\n",
       "    <tr>\n",
       "      <th>1</th>\n",
       "      <td>1</td>\n",
       "      <td>Victor Smith</td>\n",
       "      <td>M</td>\n",
       "      <td>12th</td>\n",
       "      <td>Huang High School</td>\n",
       "      <td>94</td>\n",
       "      <td>61</td>\n",
       "      <td>0</td>\n",
       "      <td>District</td>\n",
       "      <td>2917</td>\n",
       "      <td>1910635</td>\n",
       "    </tr>\n",
       "    <tr>\n",
       "      <th>2</th>\n",
       "      <td>2</td>\n",
       "      <td>Kevin Rodriguez</td>\n",
       "      <td>M</td>\n",
       "      <td>12th</td>\n",
       "      <td>Huang High School</td>\n",
       "      <td>90</td>\n",
       "      <td>60</td>\n",
       "      <td>0</td>\n",
       "      <td>District</td>\n",
       "      <td>2917</td>\n",
       "      <td>1910635</td>\n",
       "    </tr>\n",
       "    <tr>\n",
       "      <th>3</th>\n",
       "      <td>3</td>\n",
       "      <td>Dr. Richard Scott</td>\n",
       "      <td>M</td>\n",
       "      <td>12th</td>\n",
       "      <td>Huang High School</td>\n",
       "      <td>67</td>\n",
       "      <td>58</td>\n",
       "      <td>0</td>\n",
       "      <td>District</td>\n",
       "      <td>2917</td>\n",
       "      <td>1910635</td>\n",
       "    </tr>\n",
       "    <tr>\n",
       "      <th>4</th>\n",
       "      <td>4</td>\n",
       "      <td>Bonnie Ray</td>\n",
       "      <td>F</td>\n",
       "      <td>9th</td>\n",
       "      <td>Huang High School</td>\n",
       "      <td>97</td>\n",
       "      <td>84</td>\n",
       "      <td>0</td>\n",
       "      <td>District</td>\n",
       "      <td>2917</td>\n",
       "      <td>1910635</td>\n",
       "    </tr>\n",
       "  </tbody>\n",
       "</table>\n",
       "</div>"
      ],
      "text/plain": [
       "   Student ID       student_name gender grade        school_name  \\\n",
       "0           0       Paul Bradley      M   9th  Huang High School   \n",
       "1           1       Victor Smith      M  12th  Huang High School   \n",
       "2           2    Kevin Rodriguez      M  12th  Huang High School   \n",
       "3           3  Dr. Richard Scott      M  12th  Huang High School   \n",
       "4           4         Bonnie Ray      F   9th  Huang High School   \n",
       "\n",
       "   reading_score  math_score  School ID      type  size   budget  \n",
       "0             66          79          0  District  2917  1910635  \n",
       "1             94          61          0  District  2917  1910635  \n",
       "2             90          60          0  District  2917  1910635  \n",
       "3             67          58          0  District  2917  1910635  \n",
       "4             97          84          0  District  2917  1910635  "
      ]
     },
     "execution_count": 1,
     "metadata": {},
     "output_type": "execute_result"
    }
   ],
   "source": [
    "# Dependencies and Setup\n",
    "import pandas as pd\n",
    "from pathlib import Path\n",
    "\n",
    "# File to Load (Remember to Change These)\n",
    "school_data_to_load = Path(\"Resources/schools_complete.csv\")\n",
    "student_data_to_load = Path(\"Resources/students_complete.csv\")\n",
    "\n",
    "# Read School and Student Data File and store into Pandas DataFrames\n",
    "school_data = pd.read_csv(school_data_to_load)\n",
    "student_data = pd.read_csv(student_data_to_load)\n",
    "\n",
    "# Combine the data into a single dataset.\n",
    "school_data_complete = pd.merge(student_data, school_data, how=\"left\", on=[\"school_name\", \"school_name\"])\n",
    "school_data_complete.head()\n"
   ]
  },
  {
   "cell_type": "markdown",
   "metadata": {},
   "source": [
    "## District Summary"
   ]
  },
  {
   "cell_type": "code",
   "execution_count": 2,
   "metadata": {},
   "outputs": [
    {
     "name": "stdout",
     "output_type": "stream",
     "text": [
      "Total number of unique schools: 15\n"
     ]
    }
   ],
   "source": [
    "# Calculate the total number of unique schools\n",
    "total_unique_schools = school_data_complete['school_name'].nunique()\n",
    "print(\"Total number of unique schools:\", total_unique_schools)"
   ]
  },
  {
   "cell_type": "code",
   "execution_count": 3,
   "metadata": {},
   "outputs": [
    {
     "name": "stdout",
     "output_type": "stream",
     "text": [
      "Total number of students: 39170\n"
     ]
    }
   ],
   "source": [
    "# Calculate the total number of students\n",
    "total_students = school_data_complete['student_name'].count()\n",
    "print(\"Total number of students:\", total_students)"
   ]
  },
  {
   "cell_type": "code",
   "execution_count": 4,
   "metadata": {},
   "outputs": [
    {
     "name": "stdout",
     "output_type": "stream",
     "text": [
      "Total budget for all schools: 24649428\n"
     ]
    }
   ],
   "source": [
    "# Calculate the total budget\n",
    "total_budget = school_data_complete.groupby('school_name')['budget'].first().sum()\n",
    "print(\"Total budget for all schools:\", total_budget)"
   ]
  },
  {
   "cell_type": "code",
   "execution_count": 5,
   "metadata": {},
   "outputs": [
    {
     "name": "stdout",
     "output_type": "stream",
     "text": [
      "Average math score across all students: 78.98537145774827\n"
     ]
    }
   ],
   "source": [
    "# Calculate the average (mean) math score\n",
    "average_math_score = school_data_complete['math_score'].mean()\n",
    "print(\"Average math score across all students:\", average_math_score)"
   ]
  },
  {
   "cell_type": "code",
   "execution_count": 6,
   "metadata": {},
   "outputs": [
    {
     "name": "stdout",
     "output_type": "stream",
     "text": [
      "Average reading score across all students: 81.87784018381414\n"
     ]
    }
   ],
   "source": [
    "# Calculate the average (mean) reading score\n",
    "average_reading_score = school_data_complete['reading_score'].mean()\n",
    "print(\"Average reading score across all students:\", average_reading_score)"
   ]
  },
  {
   "cell_type": "code",
   "execution_count": 7,
   "metadata": {},
   "outputs": [
    {
     "name": "stdout",
     "output_type": "stream",
     "text": [
      "Percentage of students who passed math: 74.9808526933878\n"
     ]
    }
   ],
   "source": [
    "# Use the following to calculate the percentage of students who passed math (math scores greather than or equal to 70)\n",
    "# Count the number of students who passed math\n",
    "passed_math_count = school_data_complete[school_data_complete['math_score'] >= 70]['Student ID'].count()\n",
    "\n",
    "# Calculate the percentage of students who passed math\n",
    "percentage_passed_math = (passed_math_count / total_students) * 100\n",
    "print(\"Percentage of students who passed math:\", percentage_passed_math)"
   ]
  },
  {
   "cell_type": "code",
   "execution_count": 8,
   "metadata": {},
   "outputs": [
    {
     "name": "stdout",
     "output_type": "stream",
     "text": [
      "Percentage of students who passed reading: 85.80546336482001\n"
     ]
    }
   ],
   "source": [
    "# Calculate the percentage of students who passed reading (hint: look at how the math percentage was calculated)\n",
    "# Count the number of students who passed reading\n",
    "passed_reading_count = school_data_complete[school_data_complete['reading_score'] >= 70]['Student ID'].count()\n",
    "\n",
    "# Calculate the percentage of students who passed reading\n",
    "percentage_passed_reading = (passed_reading_count / total_students) * 100\n",
    "print(\"Percentage of students who passed reading:\", percentage_passed_reading)"
   ]
  },
  {
   "cell_type": "code",
   "execution_count": 9,
   "metadata": {},
   "outputs": [
    {
     "name": "stdout",
     "output_type": "stream",
     "text": [
      "Percentage of students who passed both math and reading: 65.17232575950983\n"
     ]
    }
   ],
   "source": [
    "# Use the following to calculate the percentage of students that passed math and reading\n",
    "# Count the number of students who passed both math and reading\n",
    "passed_both_count = school_data_complete[(school_data_complete['math_score'] >= 70) & (school_data_complete['reading_score'] >= 70)]['Student ID'].count()\n",
    "\n",
    "# Calculate the percentage of students who passed both math and reading\n",
    "percentage_passed_both = (passed_both_count / total_students) * 100\n",
    "print(\"Percentage of students who passed both math and reading:\", percentage_passed_both)"
   ]
  },
  {
   "cell_type": "code",
   "execution_count": 10,
   "metadata": {},
   "outputs": [
    {
     "name": "stdout",
     "output_type": "stream",
     "text": [
      "   Total Schools  Total Students  Total Budget  Average Math Score  \\\n",
      "0             15           39170      24649428           78.985371   \n",
      "\n",
      "   Average Reading Score  % Passing Math  % Passing Reading  % Overall Passing  \n",
      "0               81.87784       74.980853          85.805463          65.172326  \n"
     ]
    }
   ],
   "source": [
    "# Create a high-level snapshot of the district's key metrics in a DataFrame\n",
    "# Create a dictionary with district summary metrics\n",
    "district_summary_data = {\n",
    "    'Total Schools': [total_unique_schools],\n",
    "    'Total Students': [total_students],\n",
    "    'Total Budget': [total_budget],\n",
    "    'Average Math Score': [average_math_score],\n",
    "    'Average Reading Score': [average_reading_score],\n",
    "    '% Passing Math': [percentage_passed_math],\n",
    "    '% Passing Reading': [percentage_passed_reading],\n",
    "    '% Overall Passing': [percentage_passed_both]\n",
    "}\n",
    "\n",
    "# Create the district_summary DataFrame\n",
    "district_summary = pd.DataFrame(district_summary_data)\n",
    "\n",
    "# Display the district_summary DataFrame\n",
    "print(district_summary)"
   ]
  },
  {
   "cell_type": "markdown",
   "metadata": {},
   "source": [
    "## School Summary"
   ]
  },
  {
   "cell_type": "code",
   "execution_count": 11,
   "metadata": {},
   "outputs": [
    {
     "name": "stdout",
     "output_type": "stream",
     "text": [
      "              school_name      type\n",
      "0       Huang High School  District\n",
      "1    Figueroa High School  District\n",
      "2     Shelton High School   Charter\n",
      "3   Hernandez High School  District\n",
      "4     Griffin High School   Charter\n",
      "5      Wilson High School   Charter\n",
      "6     Cabrera High School   Charter\n",
      "7      Bailey High School  District\n",
      "8      Holden High School   Charter\n",
      "9        Pena High School   Charter\n",
      "10     Wright High School   Charter\n",
      "11  Rodriguez High School  District\n",
      "12    Johnson High School  District\n",
      "13       Ford High School  District\n",
      "14     Thomas High School   Charter\n"
     ]
    }
   ],
   "source": [
    "# Use the code provided to select the type per school from school_data\n",
    "school_types = school_data[['school_name', 'type']]\n",
    "print(school_types)\n"
   ]
  },
  {
   "cell_type": "code",
   "execution_count": 12,
   "metadata": {},
   "outputs": [
    {
     "name": "stdout",
     "output_type": "stream",
     "text": [
      "school_name\n",
      "Bailey High School       4976\n",
      "Cabrera High School      1858\n",
      "Figueroa High School     2949\n",
      "Ford High School         2739\n",
      "Griffin High School      1468\n",
      "Hernandez High School    4635\n",
      "Holden High School        427\n",
      "Huang High School        2917\n",
      "Johnson High School      4761\n",
      "Pena High School          962\n",
      "Rodriguez High School    3999\n",
      "Shelton High School      1761\n",
      "Thomas High School       1635\n",
      "Wilson High School       2283\n",
      "Wright High School       1800\n",
      "Name: size, dtype: int64\n"
     ]
    }
   ],
   "source": [
    "# Calculate the total student count per school from school_data\n",
    "# Group the data by school name and sum up the student counts\n",
    "total_student_count_per_school = school_data.groupby('school_name')['size'].sum()\n",
    "\n",
    "print(total_student_count_per_school)"
   ]
  },
  {
   "cell_type": "code",
   "execution_count": 13,
   "metadata": {},
   "outputs": [
    {
     "name": "stdout",
     "output_type": "stream",
     "text": [
      "Total School Budget:\n",
      "school_name\n",
      "Bailey High School       3124928\n",
      "Cabrera High School      1081356\n",
      "Figueroa High School     1884411\n",
      "Ford High School         1763916\n",
      "Griffin High School       917500\n",
      "Hernandez High School    3022020\n",
      "Holden High School        248087\n",
      "Huang High School        1910635\n",
      "Johnson High School      3094650\n",
      "Pena High School          585858\n",
      "Rodriguez High School    2547363\n",
      "Shelton High School      1056600\n",
      "Thomas High School       1043130\n",
      "Wilson High School       1319574\n",
      "Wright High School       1049400\n",
      "Name: budget, dtype: int64\n",
      "\n",
      "Per Capita Spending Per School:\n",
      "school_name\n",
      "Bailey High School       628.0\n",
      "Cabrera High School      582.0\n",
      "Figueroa High School     639.0\n",
      "Ford High School         644.0\n",
      "Griffin High School      625.0\n",
      "Hernandez High School    652.0\n",
      "Holden High School       581.0\n",
      "Huang High School        655.0\n",
      "Johnson High School      650.0\n",
      "Pena High School         609.0\n",
      "Rodriguez High School    637.0\n",
      "Shelton High School      600.0\n",
      "Thomas High School       638.0\n",
      "Wilson High School       578.0\n",
      "Wright High School       583.0\n",
      "dtype: float64\n"
     ]
    }
   ],
   "source": [
    "# Calculate the total school budget and per capita spending per school from school_data\n",
    "# Calculate total school budget\n",
    "total_school_budget = school_data.groupby('school_name')['budget'].sum()\n",
    "\n",
    "# Calculate per capita spending per school\n",
    "per_capita_spending_per_school = total_school_budget / total_student_count_per_school\n",
    "\n",
    "print(\"Total School Budget:\")\n",
    "print(total_school_budget)\n",
    "print(\"\\nPer Capita Spending Per School:\")\n",
    "print(per_capita_spending_per_school)"
   ]
  },
  {
   "cell_type": "code",
   "execution_count": 14,
   "metadata": {},
   "outputs": [
    {
     "name": "stdout",
     "output_type": "stream",
     "text": [
      "                       math_score  reading_score\n",
      "school_name                                     \n",
      "Bailey High School      77.048432      81.033963\n",
      "Cabrera High School     83.061895      83.975780\n",
      "Figueroa High School    76.711767      81.158020\n",
      "Ford High School        77.102592      80.746258\n",
      "Griffin High School     83.351499      83.816757\n",
      "Hernandez High School   77.289752      80.934412\n",
      "Holden High School      83.803279      83.814988\n",
      "Huang High School       76.629414      81.182722\n",
      "Johnson High School     77.072464      80.966394\n",
      "Pena High School        83.839917      84.044699\n",
      "Rodriguez High School   76.842711      80.744686\n",
      "Shelton High School     83.359455      83.725724\n",
      "Thomas High School      83.418349      83.848930\n",
      "Wilson High School      83.274201      83.989488\n",
      "Wright High School      83.682222      83.955000\n"
     ]
    }
   ],
   "source": [
    "# Calculate the average test scores per school from school_data_complete\n",
    "# Calculate average test scores per school\n",
    "average_scores_per_school = school_data_complete.groupby('school_name')[['math_score', 'reading_score']].mean()\n",
    "\n",
    "print(average_scores_per_school)"
   ]
  },
  {
   "cell_type": "code",
   "execution_count": 15,
   "metadata": {},
   "outputs": [
    {
     "name": "stdout",
     "output_type": "stream",
     "text": [
      "school_name\n",
      "Bailey High School       3318\n",
      "Cabrera High School      1749\n",
      "Figueroa High School     1946\n",
      "Ford High School         1871\n",
      "Griffin High School      1371\n",
      "Hernandez High School    3094\n",
      "Holden High School        395\n",
      "Huang High School        1916\n",
      "Johnson High School      3145\n",
      "Pena High School          910\n",
      "Rodriguez High School    2654\n",
      "Shelton High School      1653\n",
      "Thomas High School       1525\n",
      "Wilson High School       2143\n",
      "Wright High School       1680\n",
      "Name: Student ID, dtype: int64\n"
     ]
    }
   ],
   "source": [
    "# Calculate the number of students per school with math scores of 70 or higher from school_data_complete\n",
    "# Filter the DataFrame to include only students with math scores of 70 or higher\n",
    "passing_math_per_school = school_data_complete[school_data_complete['math_score'] >= 70]\n",
    "\n",
    "# Calculate the number of students per school with math scores of 70 or higher\n",
    "passing_math_count_per_school = passing_math_per_school.groupby('school_name')['Student ID'].count()\n",
    "\n",
    "print(passing_math_count_per_school)"
   ]
  },
  {
   "cell_type": "code",
   "execution_count": 16,
   "metadata": {},
   "outputs": [
    {
     "name": "stdout",
     "output_type": "stream",
     "text": [
      "school_name\n",
      "Bailey High School       4077\n",
      "Cabrera High School      1803\n",
      "Figueroa High School     2381\n",
      "Ford High School         2172\n",
      "Griffin High School      1426\n",
      "Hernandez High School    3748\n",
      "Holden High School        411\n",
      "Huang High School        2372\n",
      "Johnson High School      3867\n",
      "Pena High School          923\n",
      "Rodriguez High School    3208\n",
      "Shelton High School      1688\n",
      "Thomas High School       1591\n",
      "Wilson High School       2204\n",
      "Wright High School       1739\n",
      "Name: Student ID, dtype: int64\n"
     ]
    }
   ],
   "source": [
    "# Calculate the number of students per school with reading scores of 70 or higher from school_data_complete\n",
    "# Filter the DataFrame to include only students with reading scores of 70 or higher\n",
    "passing_reading_per_school = school_data_complete[school_data_complete['reading_score'] >= 70]\n",
    "\n",
    "# Calculate the number of students per school with reading scores of 70 or higher\n",
    "passing_reading_count_per_school = passing_reading_per_school.groupby('school_name')['Student ID'].count()\n",
    "\n",
    "print(passing_reading_count_per_school)"
   ]
  },
  {
   "cell_type": "code",
   "execution_count": 17,
   "metadata": {},
   "outputs": [
    {
     "name": "stdout",
     "output_type": "stream",
     "text": [
      "school_name\n",
      "Bailey High School       2719\n",
      "Cabrera High School      1697\n",
      "Figueroa High School     1569\n",
      "Ford High School         1487\n",
      "Griffin High School      1330\n",
      "Hernandez High School    2481\n",
      "Holden High School        381\n",
      "Huang High School        1561\n",
      "Johnson High School      2549\n",
      "Pena High School          871\n",
      "Rodriguez High School    2119\n",
      "Shelton High School      1583\n",
      "Thomas High School       1487\n",
      "Wilson High School       2068\n",
      "Wright High School       1626\n",
      "Name: Student ID, dtype: int64\n"
     ]
    }
   ],
   "source": [
    "# Use the provided code to calculate the number of students per school that passed both math and reading with scores of 70 or higher\n",
    "# Filter the DataFrame to include only students who passed both math and reading with scores of 70 or higher\n",
    "passing_both_per_school = school_data_complete[(school_data_complete['math_score'] >= 70) & (school_data_complete['reading_score'] >= 70)]\n",
    "\n",
    "# Calculate the number of students per school who passed both math and reading with scores of 70 or higher\n",
    "passing_both_count_per_school = passing_both_per_school.groupby('school_name')['Student ID'].count()\n",
    "\n",
    "print(passing_both_count_per_school)"
   ]
  },
  {
   "cell_type": "code",
   "execution_count": 18,
   "metadata": {},
   "outputs": [
    {
     "name": "stdout",
     "output_type": "stream",
     "text": [
      "Passing Rates for Math:\n",
      "school_name\n",
      "Bailey High School       66.680064\n",
      "Cabrera High School      94.133477\n",
      "Figueroa High School     65.988471\n",
      "Ford High School         68.309602\n",
      "Griffin High School      93.392371\n",
      "Hernandez High School    66.752967\n",
      "Holden High School       92.505855\n",
      "Huang High School        65.683922\n",
      "Johnson High School      66.057551\n",
      "Pena High School         94.594595\n",
      "Rodriguez High School    66.366592\n",
      "Shelton High School      93.867121\n",
      "Thomas High School       93.272171\n",
      "Wilson High School       93.867718\n",
      "Wright High School       93.333333\n",
      "dtype: float64\n",
      "\n",
      "Passing Rates for Reading:\n",
      "school_name\n",
      "Bailey High School       81.933280\n",
      "Cabrera High School      97.039828\n",
      "Figueroa High School     80.739234\n",
      "Ford High School         79.299014\n",
      "Griffin High School      97.138965\n",
      "Hernandez High School    80.862999\n",
      "Holden High School       96.252927\n",
      "Huang High School        81.316421\n",
      "Johnson High School      81.222432\n",
      "Pena High School         95.945946\n",
      "Rodriguez High School    80.220055\n",
      "Shelton High School      95.854628\n",
      "Thomas High School       97.308869\n",
      "Wilson High School       96.539641\n",
      "Wright High School       96.611111\n",
      "dtype: float64\n",
      "\n",
      "Passing Rates for Both Math and Reading:\n",
      "school_name\n",
      "Bailey High School       54.642283\n",
      "Cabrera High School      91.334769\n",
      "Figueroa High School     53.204476\n",
      "Ford High School         54.289887\n",
      "Griffin High School      90.599455\n",
      "Hernandez High School    53.527508\n",
      "Holden High School       89.227166\n",
      "Huang High School        53.513884\n",
      "Johnson High School      53.539172\n",
      "Pena High School         90.540541\n",
      "Rodriguez High School    52.988247\n",
      "Shelton High School      89.892107\n",
      "Thomas High School       90.948012\n",
      "Wilson High School       90.582567\n",
      "Wright High School       90.333333\n",
      "dtype: float64\n"
     ]
    }
   ],
   "source": [
    "# Use the provided code to calculate the passing rates\n",
    "# Calculate passing rates for math, reading, and both subjects\n",
    "passing_math_rate_per_school = (passing_math_count_per_school / total_student_count_per_school) * 100\n",
    "passing_reading_rate_per_school = (passing_reading_count_per_school / total_student_count_per_school) * 100\n",
    "passing_both_rate_per_school = (passing_both_count_per_school / total_student_count_per_school) * 100\n",
    "\n",
    "print(\"Passing Rates for Math:\")\n",
    "print(passing_math_rate_per_school)\n",
    "\n",
    "print(\"\\nPassing Rates for Reading:\")\n",
    "print(passing_reading_rate_per_school)\n",
    "\n",
    "print(\"\\nPassing Rates for Both Math and Reading:\")\n",
    "print(passing_both_rate_per_school)"
   ]
  },
  {
   "cell_type": "code",
   "execution_count": 19,
   "metadata": {},
   "outputs": [
    {
     "name": "stdout",
     "output_type": "stream",
     "text": [
      "                       Total Students  Total School Budget  \\\n",
      "school_name                                                  \n",
      "Bailey High School               4976              3124928   \n",
      "Cabrera High School              1858              1081356   \n",
      "Figueroa High School             2949              1884411   \n",
      "Ford High School                 2739              1763916   \n",
      "Griffin High School              1468               917500   \n",
      "Hernandez High School            4635              3022020   \n",
      "Holden High School                427               248087   \n",
      "Huang High School                2917              1910635   \n",
      "Johnson High School              4761              3094650   \n",
      "Pena High School                  962               585858   \n",
      "Rodriguez High School            3999              2547363   \n",
      "Shelton High School              1761              1056600   \n",
      "Thomas High School               1635              1043130   \n",
      "Wilson High School               2283              1319574   \n",
      "Wright High School               1800              1049400   \n",
      "\n",
      "                       Per Student Budget  Average Math Score  \\\n",
      "school_name                                                     \n",
      "Bailey High School                  628.0           77.048432   \n",
      "Cabrera High School                 582.0           83.061895   \n",
      "Figueroa High School                639.0           76.711767   \n",
      "Ford High School                    644.0           77.102592   \n",
      "Griffin High School                 625.0           83.351499   \n",
      "Hernandez High School               652.0           77.289752   \n",
      "Holden High School                  581.0           83.803279   \n",
      "Huang High School                   655.0           76.629414   \n",
      "Johnson High School                 650.0           77.072464   \n",
      "Pena High School                    609.0           83.839917   \n",
      "Rodriguez High School               637.0           76.842711   \n",
      "Shelton High School                 600.0           83.359455   \n",
      "Thomas High School                  638.0           83.418349   \n",
      "Wilson High School                  578.0           83.274201   \n",
      "Wright High School                  583.0           83.682222   \n",
      "\n",
      "                       Average Reading Score  % Passing Math  \\\n",
      "school_name                                                    \n",
      "Bailey High School                 81.033963       66.680064   \n",
      "Cabrera High School                83.975780       94.133477   \n",
      "Figueroa High School               81.158020       65.988471   \n",
      "Ford High School                   80.746258       68.309602   \n",
      "Griffin High School                83.816757       93.392371   \n",
      "Hernandez High School              80.934412       66.752967   \n",
      "Holden High School                 83.814988       92.505855   \n",
      "Huang High School                  81.182722       65.683922   \n",
      "Johnson High School                80.966394       66.057551   \n",
      "Pena High School                   84.044699       94.594595   \n",
      "Rodriguez High School              80.744686       66.366592   \n",
      "Shelton High School                83.725724       93.867121   \n",
      "Thomas High School                 83.848930       93.272171   \n",
      "Wilson High School                 83.989488       93.867718   \n",
      "Wright High School                 83.955000       93.333333   \n",
      "\n",
      "                       % Passing Reading  % Overall Passing  \n",
      "school_name                                                  \n",
      "Bailey High School             81.933280          54.642283  \n",
      "Cabrera High School            97.039828          91.334769  \n",
      "Figueroa High School           80.739234          53.204476  \n",
      "Ford High School               79.299014          54.289887  \n",
      "Griffin High School            97.138965          90.599455  \n",
      "Hernandez High School          80.862999          53.527508  \n",
      "Holden High School             96.252927          89.227166  \n",
      "Huang High School              81.316421          53.513884  \n",
      "Johnson High School            81.222432          53.539172  \n",
      "Pena High School               95.945946          90.540541  \n",
      "Rodriguez High School          80.220055          52.988247  \n",
      "Shelton High School            95.854628          89.892107  \n",
      "Thomas High School             97.308869          90.948012  \n",
      "Wilson High School             96.539641          90.582567  \n",
      "Wright High School             96.611111          90.333333  \n"
     ]
    }
   ],
   "source": [
    "# Create a DataFrame called `per_school_summary` with columns for the calculations above.\n",
    "# Create per_school_summary DataFrame\n",
    "per_school_summary = pd.DataFrame({\n",
    "    'Total Students': total_student_count_per_school,\n",
    "    'Total School Budget': total_school_budget,\n",
    "    'Per Student Budget': per_capita_spending_per_school,\n",
    "    'Average Math Score': average_scores_per_school['math_score'],\n",
    "    'Average Reading Score': average_scores_per_school['reading_score'],\n",
    "    '% Passing Math': passing_math_rate_per_school,\n",
    "    '% Passing Reading': passing_reading_rate_per_school,\n",
    "    '% Overall Passing': passing_both_rate_per_school\n",
    "})\n",
    "\n",
    "print(per_school_summary)"
   ]
  },
  {
   "cell_type": "markdown",
   "metadata": {},
   "source": [
    "## Highest-Performing Schools (by % Overall Passing)"
   ]
  },
  {
   "cell_type": "code",
   "execution_count": 20,
   "metadata": {
    "scrolled": true
   },
   "outputs": [
    {
     "name": "stdout",
     "output_type": "stream",
     "text": [
      "                     Total Students  Total School Budget  Per Student Budget  \\\n",
      "school_name                                                                    \n",
      "Cabrera High School            1858              1081356               582.0   \n",
      "Thomas High School             1635              1043130               638.0   \n",
      "Griffin High School            1468               917500               625.0   \n",
      "Wilson High School             2283              1319574               578.0   \n",
      "Pena High School                962               585858               609.0   \n",
      "\n",
      "                     Average Math Score  Average Reading Score  \\\n",
      "school_name                                                      \n",
      "Cabrera High School           83.061895              83.975780   \n",
      "Thomas High School            83.418349              83.848930   \n",
      "Griffin High School           83.351499              83.816757   \n",
      "Wilson High School            83.274201              83.989488   \n",
      "Pena High School              83.839917              84.044699   \n",
      "\n",
      "                     % Passing Math  % Passing Reading  % Overall Passing  \n",
      "school_name                                                                \n",
      "Cabrera High School       94.133477          97.039828          91.334769  \n",
      "Thomas High School        93.272171          97.308869          90.948012  \n",
      "Griffin High School       93.392371          97.138965          90.599455  \n",
      "Wilson High School        93.867718          96.539641          90.582567  \n",
      "Pena High School          94.594595          95.945946          90.540541  \n"
     ]
    }
   ],
   "source": [
    "# Sort the schools by `% Overall Passing` in descending order and display the top 5 rows.\n",
    "# Sort the schools by '% Overall Passing' in descending order\n",
    "per_school_summary_sorted = per_school_summary.sort_values(by='% Overall Passing', ascending=False)\n",
    "\n",
    "# Display the top 5 rows\n",
    "top_performing_schools = per_school_summary_sorted.head(5)\n",
    "print(top_performing_schools)"
   ]
  },
  {
   "cell_type": "markdown",
   "metadata": {},
   "source": [
    "## Bottom Performing Schools (By % Overall Passing)"
   ]
  },
  {
   "cell_type": "code",
   "execution_count": 21,
   "metadata": {},
   "outputs": [
    {
     "name": "stdout",
     "output_type": "stream",
     "text": [
      "                       Total Students  Total School Budget  \\\n",
      "school_name                                                  \n",
      "Rodriguez High School            3999              2547363   \n",
      "Figueroa High School             2949              1884411   \n",
      "Huang High School                2917              1910635   \n",
      "Hernandez High School            4635              3022020   \n",
      "Johnson High School              4761              3094650   \n",
      "\n",
      "                       Per Student Budget  Average Math Score  \\\n",
      "school_name                                                     \n",
      "Rodriguez High School               637.0           76.842711   \n",
      "Figueroa High School                639.0           76.711767   \n",
      "Huang High School                   655.0           76.629414   \n",
      "Hernandez High School               652.0           77.289752   \n",
      "Johnson High School                 650.0           77.072464   \n",
      "\n",
      "                       Average Reading Score  % Passing Math  \\\n",
      "school_name                                                    \n",
      "Rodriguez High School              80.744686       66.366592   \n",
      "Figueroa High School               81.158020       65.988471   \n",
      "Huang High School                  81.182722       65.683922   \n",
      "Hernandez High School              80.934412       66.752967   \n",
      "Johnson High School                80.966394       66.057551   \n",
      "\n",
      "                       % Passing Reading  % Overall Passing  \n",
      "school_name                                                  \n",
      "Rodriguez High School          80.220055          52.988247  \n",
      "Figueroa High School           80.739234          53.204476  \n",
      "Huang High School              81.316421          53.513884  \n",
      "Hernandez High School          80.862999          53.527508  \n",
      "Johnson High School            81.222432          53.539172  \n"
     ]
    }
   ],
   "source": [
    "# Sort the schools by `% Overall Passing` in ascending order and display the top 5 rows.\n",
    "# Sort the schools by '% Overall Passing' in ascending order\n",
    "per_school_summary_sorted = per_school_summary.sort_values(by='% Overall Passing', ascending=True)\n",
    "\n",
    "# Display the top 5 rows\n",
    "bottom_performing_schools = per_school_summary_sorted.head(5)\n",
    "print(bottom_performing_schools)"
   ]
  },
  {
   "cell_type": "markdown",
   "metadata": {},
   "source": [
    "## Math Scores by Grade"
   ]
  },
  {
   "cell_type": "code",
   "execution_count": 22,
   "metadata": {},
   "outputs": [
    {
     "name": "stdout",
     "output_type": "stream",
     "text": [
      "Grade 9:\n",
      "    Student ID     student_name gender grade        school_name  \\\n",
      "0            0     Paul Bradley      M   9th  Huang High School   \n",
      "4            4       Bonnie Ray      F   9th  Huang High School   \n",
      "5            5    Bryan Miranda      M   9th  Huang High School   \n",
      "12          12  Brittney Walker      F   9th  Huang High School   \n",
      "13          13     William Long      M   9th  Huang High School   \n",
      "\n",
      "    reading_score  math_score  School ID      type  size   budget  \n",
      "0              66          79          0  District  2917  1910635  \n",
      "4              97          84          0  District  2917  1910635  \n",
      "5              94          94          0  District  2917  1910635  \n",
      "12             64          79          0  District  2917  1910635  \n",
      "13             71          79          0  District  2917  1910635  \n",
      "\n",
      "Grade 10:\n",
      "    Student ID      student_name gender grade        school_name  \\\n",
      "8            8      Michael Roth      M  10th  Huang High School   \n",
      "9            9    Matthew Greene      M  10th  Huang High School   \n",
      "10          10  Andrew Alexander      M  10th  Huang High School   \n",
      "11          11     Daniel Cooper      M  10th  Huang High School   \n",
      "14          14      Tammy Hebert      F  10th  Huang High School   \n",
      "\n",
      "    reading_score  math_score  School ID      type  size   budget  \n",
      "8              95          87          0  District  2917  1910635  \n",
      "9              96          84          0  District  2917  1910635  \n",
      "10             90          70          0  District  2917  1910635  \n",
      "11             78          77          0  District  2917  1910635  \n",
      "14             85          67          0  District  2917  1910635  \n",
      "\n",
      "Grade 11:\n",
      "    Student ID       student_name gender grade        school_name  \\\n",
      "6            6      Sheena Carter      F  11th  Huang High School   \n",
      "15          15  Dr. Jordan Carson      M  11th  Huang High School   \n",
      "22          22   Kimberly Stewart      F  11th  Huang High School   \n",
      "24          24   Chelsea Griffith      F  11th  Huang High School   \n",
      "28          28        Kelly James      F  11th  Huang High School   \n",
      "\n",
      "    reading_score  math_score  School ID      type  size   budget  \n",
      "6              82          80          0  District  2917  1910635  \n",
      "15             94          88          0  District  2917  1910635  \n",
      "22             99          84          0  District  2917  1910635  \n",
      "24             85          73          0  District  2917  1910635  \n",
      "28             73          55          0  District  2917  1910635  \n",
      "\n",
      "Grade 12:\n",
      "    Student ID       student_name gender grade        school_name  \\\n",
      "1            1       Victor Smith      M  12th  Huang High School   \n",
      "2            2    Kevin Rodriguez      M  12th  Huang High School   \n",
      "3            3  Dr. Richard Scott      M  12th  Huang High School   \n",
      "7            7       Nicole Baker      F  12th  Huang High School   \n",
      "29          29       Nicole Brown      F  12th  Huang High School   \n",
      "\n",
      "    reading_score  math_score  School ID      type  size   budget  \n",
      "1              94          61          0  District  2917  1910635  \n",
      "2              90          60          0  District  2917  1910635  \n",
      "3              67          58          0  District  2917  1910635  \n",
      "7              96          69          0  District  2917  1910635  \n",
      "29             90          88          0  District  2917  1910635  \n",
      "school_name\n",
      "Bailey High School       77.048432\n",
      "Cabrera High School      83.061895\n",
      "Figueroa High School     76.711767\n",
      "Ford High School         77.102592\n",
      "Griffin High School      83.351499\n",
      "Hernandez High School    77.289752\n",
      "Holden High School       83.803279\n",
      "Huang High School        76.629414\n",
      "Johnson High School      77.072464\n",
      "Pena High School         83.839917\n",
      "Rodriguez High School    76.842711\n",
      "Shelton High School      83.359455\n",
      "Thomas High School       83.418349\n",
      "Wilson High School       83.274201\n",
      "Wright High School       83.682222\n",
      "Name: math_score, dtype: float64\n",
      "                             9th       10th       11th       12th\n",
      "school_name                                                      \n",
      "Bailey High School     77.083676  76.996772  77.515588  76.492218\n",
      "Cabrera High School    83.094697  83.154506  82.765560  83.277487\n",
      "Figueroa High School   76.403037  76.539974  76.884344  77.151369\n",
      "Ford High School       77.361345  77.672316  76.918058  76.179963\n",
      "Griffin High School    82.044010  84.229064  83.842105  83.356164\n",
      "Hernandez High School  77.438495  77.337408  77.136029  77.186567\n",
      "Holden High School     83.787402  83.429825  85.000000  82.855422\n",
      "Huang High School      77.027251  75.908735  76.446602  77.225641\n",
      "Johnson High School    77.187857  76.691117  77.491653  76.863248\n",
      "Pena High School       83.625455  83.372000  84.328125  84.121547\n",
      "Rodriguez High School  76.859966  76.612500  76.395626  77.690748\n",
      "Shelton High School    83.420755  82.917411  83.383495  83.778976\n",
      "Thomas High School     83.590022  83.087886  83.498795  83.497041\n",
      "Wilson High School     83.085578  83.724422  83.195326  83.035794\n",
      "Wright High School     83.264706  84.010288  83.836782  83.644986\n",
      "                             9th       10th       11th       12th\n",
      "school_name                                                      \n",
      "Bailey High School     77.083676  76.996772  77.515588  76.492218\n",
      "Cabrera High School    83.094697  83.154506  82.765560  83.277487\n",
      "Figueroa High School   76.403037  76.539974  76.884344  77.151369\n",
      "Ford High School       77.361345  77.672316  76.918058  76.179963\n",
      "Griffin High School    82.044010  84.229064  83.842105  83.356164\n",
      "Hernandez High School  77.438495  77.337408  77.136029  77.186567\n",
      "Holden High School     83.787402  83.429825  85.000000  82.855422\n",
      "Huang High School      77.027251  75.908735  76.446602  77.225641\n",
      "Johnson High School    77.187857  76.691117  77.491653  76.863248\n",
      "Pena High School       83.625455  83.372000  84.328125  84.121547\n",
      "Rodriguez High School  76.859966  76.612500  76.395626  77.690748\n",
      "Shelton High School    83.420755  82.917411  83.383495  83.778976\n",
      "Thomas High School     83.590022  83.087886  83.498795  83.497041\n",
      "Wilson High School     83.085578  83.724422  83.195326  83.035794\n",
      "Wright High School     83.264706  84.010288  83.836782  83.644986\n"
     ]
    }
   ],
   "source": [
    "# Use the code provided to separate the data by grade\n",
    "# Separate data by grade\n",
    "grade_9th = school_data_complete[school_data_complete['grade'] == '9th']\n",
    "grade_10th = school_data_complete[school_data_complete['grade'] == '10th']\n",
    "grade_11th = school_data_complete[school_data_complete['grade'] == '11th']\n",
    "grade_12th = school_data_complete[school_data_complete['grade'] == '12th']\n",
    "\n",
    "# Display the first few rows of each grade DataFrame\n",
    "print(\"Grade 9:\")\n",
    "print(grade_9th.head())\n",
    "print(\"\\nGrade 10:\")\n",
    "print(grade_10th.head())\n",
    "print(\"\\nGrade 11:\")\n",
    "print(grade_11th.head())\n",
    "print(\"\\nGrade 12:\")\n",
    "print(grade_12th.head())\n",
    "\n",
    "# Group by school_name and calculate the mean of math_score for each school\n",
    "average_math_score_per_school = school_data_complete.groupby('school_name')['math_score'].mean()\n",
    "\n",
    "print(average_math_score_per_school)\n",
    "\n",
    "# Create math_scores_by_grade DataFrame\n",
    "math_scores_by_grade = pd.DataFrame({\n",
    "    '9th': grade_9th.groupby('school_name')['math_score'].mean(),\n",
    "    '10th': grade_10th.groupby('school_name')['math_score'].mean(),\n",
    "    '11th': grade_11th.groupby('school_name')['math_score'].mean(),\n",
    "    '12th': grade_12th.groupby('school_name')['math_score'].mean()\n",
    "})\n",
    "\n",
    "print(math_scores_by_grade)\n",
    "\n",
    "# Display the DataFrame\n",
    "print(math_scores_by_grade)\n"
   ]
  },
  {
   "cell_type": "markdown",
   "metadata": {},
   "source": [
    "## Reading Score by Grade "
   ]
  },
  {
   "cell_type": "code",
   "execution_count": 23,
   "metadata": {},
   "outputs": [
    {
     "name": "stdout",
     "output_type": "stream",
     "text": [
      "                             9th       10th       11th       12th\n",
      "school_name                                                      \n",
      "Bailey High School     81.303155  80.907183  80.945643  80.912451\n",
      "Cabrera High School    83.676136  84.253219  83.788382  84.287958\n",
      "Figueroa High School   81.198598  81.408912  80.640339  81.384863\n",
      "Ford High School       80.632653  81.262712  80.403642  80.662338\n",
      "Griffin High School    83.369193  83.706897  84.288089  84.013699\n",
      "Hernandez High School  80.866860  80.660147  81.396140  80.857143\n",
      "Holden High School     83.677165  83.324561  83.815534  84.698795\n",
      "Huang High School      81.290284  81.512386  81.417476  80.305983\n",
      "Johnson High School    81.260714  80.773431  80.616027  81.227564\n",
      "Pena High School       83.807273  83.612000  84.335938  84.591160\n",
      "Rodriguez High School  80.993127  80.629808  80.864811  80.376426\n",
      "Shelton High School    84.122642  83.441964  84.373786  82.781671\n",
      "Thomas High School     83.728850  84.254157  83.585542  83.831361\n",
      "Wilson High School     83.939778  84.021452  83.764608  84.317673\n",
      "Wright High School     83.833333  83.812757  84.156322  84.073171\n",
      "school_name\n",
      "Bailey High School       81.033963\n",
      "Cabrera High School      83.975780\n",
      "Figueroa High School     81.158020\n",
      "Ford High School         80.746258\n",
      "Griffin High School      83.816757\n",
      "Hernandez High School    80.934412\n",
      "Holden High School       83.814988\n",
      "Huang High School        81.182722\n",
      "Johnson High School      80.966394\n",
      "Pena High School         84.044699\n",
      "Rodriguez High School    80.744686\n",
      "Shelton High School      83.725724\n",
      "Thomas High School       83.848930\n",
      "Wilson High School       83.989488\n",
      "Wright High School       83.955000\n",
      "Name: reading_score, dtype: float64\n",
      "                             9th       10th       11th       12th\n",
      "school_name                                                      \n",
      "Bailey High School     81.303155  80.907183  80.945643  80.912451\n",
      "Cabrera High School    83.676136  84.253219  83.788382  84.287958\n",
      "Figueroa High School   81.198598  81.408912  80.640339  81.384863\n",
      "Ford High School       80.632653  81.262712  80.403642  80.662338\n",
      "Griffin High School    83.369193  83.706897  84.288089  84.013699\n",
      "Hernandez High School  80.866860  80.660147  81.396140  80.857143\n",
      "Holden High School     83.677165  83.324561  83.815534  84.698795\n",
      "Huang High School      81.290284  81.512386  81.417476  80.305983\n",
      "Johnson High School    81.260714  80.773431  80.616027  81.227564\n",
      "Pena High School       83.807273  83.612000  84.335938  84.591160\n",
      "Rodriguez High School  80.993127  80.629808  80.864811  80.376426\n",
      "Shelton High School    84.122642  83.441964  84.373786  82.781671\n",
      "Thomas High School     83.728850  84.254157  83.585542  83.831361\n",
      "Wilson High School     83.939778  84.021452  83.764608  84.317673\n",
      "Wright High School     83.833333  83.812757  84.156322  84.073171\n",
      "                             9th       10th       11th       12th\n",
      "school_name                                                      \n",
      "Bailey High School     81.303155  80.907183  80.945643  80.912451\n",
      "Cabrera High School    83.676136  84.253219  83.788382  84.287958\n",
      "Figueroa High School   81.198598  81.408912  80.640339  81.384863\n",
      "Ford High School       80.632653  81.262712  80.403642  80.662338\n",
      "Griffin High School    83.369193  83.706897  84.288089  84.013699\n",
      "Hernandez High School  80.866860  80.660147  81.396140  80.857143\n",
      "Holden High School     83.677165  83.324561  83.815534  84.698795\n",
      "Huang High School      81.290284  81.512386  81.417476  80.305983\n",
      "Johnson High School    81.260714  80.773431  80.616027  81.227564\n",
      "Pena High School       83.807273  83.612000  84.335938  84.591160\n",
      "Rodriguez High School  80.993127  80.629808  80.864811  80.376426\n",
      "Shelton High School    84.122642  83.441964  84.373786  82.781671\n",
      "Thomas High School     83.728850  84.254157  83.585542  83.831361\n",
      "Wilson High School     83.939778  84.021452  83.764608  84.317673\n",
      "Wright High School     83.833333  83.812757  84.156322  84.073171\n"
     ]
    }
   ],
   "source": [
    "# Use the code provided to separate the data by grade\n",
    "# Separate data by grade for reading scores\n",
    "reading_grade_9th = school_data_complete[school_data_complete['grade'] == '9th']\n",
    "reading_grade_10th = school_data_complete[school_data_complete['grade'] == '10th']\n",
    "reading_grade_11th = school_data_complete[school_data_complete['grade'] == '11th']\n",
    "reading_grade_12th = school_data_complete[school_data_complete['grade'] == '12th']\n",
    "\n",
    "# Group by school_name and calculate the mean of reading_score for each school for each grade\n",
    "average_reading_score_grade_9th = reading_grade_9th.groupby('school_name')['reading_score'].mean()\n",
    "average_reading_score_grade_10th = reading_grade_10th.groupby('school_name')['reading_score'].mean()\n",
    "average_reading_score_grade_11th = reading_grade_11th.groupby('school_name')['reading_score'].mean()\n",
    "average_reading_score_grade_12th = reading_grade_12th.groupby('school_name')['reading_score'].mean()\n",
    "\n",
    "# Create a DataFrame to combine reading scores by grade\n",
    "reading_scores_by_grade = pd.DataFrame({\n",
    "    '9th': average_reading_score_grade_9th,\n",
    "    '10th': average_reading_score_grade_10th,\n",
    "    '11th': average_reading_score_grade_11th,\n",
    "    '12th': average_reading_score_grade_12th\n",
    "})\n",
    "\n",
    "print(reading_scores_by_grade)\n",
    "\n",
    "# Group by school_name and calculate the mean of reading_score for each school\n",
    "average_reading_score_per_school = school_data_complete.groupby('school_name')['reading_score'].mean()\n",
    "\n",
    "print(average_reading_score_per_school)\n",
    "\n",
    "\n",
    "# Create reading_scores_by_grade DataFrame\n",
    "reading_scores_by_grade = pd.DataFrame({\n",
    "    '9th': reading_grade_9th.groupby('school_name')['reading_score'].mean(),\n",
    "    '10th': reading_grade_10th.groupby('school_name')['reading_score'].mean(),\n",
    "    '11th': reading_grade_11th.groupby('school_name')['reading_score'].mean(),\n",
    "    '12th': reading_grade_12th.groupby('school_name')['reading_score'].mean()\n",
    "})\n",
    "\n",
    "print(reading_scores_by_grade)\n",
    "\n",
    "# Display the DataFrame\n",
    "print(reading_scores_by_grade)"
   ]
  },
  {
   "cell_type": "markdown",
   "metadata": {},
   "source": [
    "## Scores by School Spending"
   ]
  },
  {
   "cell_type": "code",
   "execution_count": 24,
   "metadata": {},
   "outputs": [],
   "source": [
    "# Establish the bins\n",
    "spending_bins = [0, 585, 630, 645, 680]\n",
    "labels = [\"<$585\", \"$585-630\", \"$630-645\", \"$645-680\"]"
   ]
  },
  {
   "cell_type": "code",
   "execution_count": 25,
   "metadata": {},
   "outputs": [
    {
     "name": "stdout",
     "output_type": "stream",
     "text": [
      "                       Total Students  Total School Budget  \\\n",
      "school_name                                                  \n",
      "Bailey High School               4976              3124928   \n",
      "Cabrera High School              1858              1081356   \n",
      "Figueroa High School             2949              1884411   \n",
      "Ford High School                 2739              1763916   \n",
      "Griffin High School              1468               917500   \n",
      "Hernandez High School            4635              3022020   \n",
      "Holden High School                427               248087   \n",
      "Huang High School                2917              1910635   \n",
      "Johnson High School              4761              3094650   \n",
      "Pena High School                  962               585858   \n",
      "Rodriguez High School            3999              2547363   \n",
      "Shelton High School              1761              1056600   \n",
      "Thomas High School               1635              1043130   \n",
      "Wilson High School               2283              1319574   \n",
      "Wright High School               1800              1049400   \n",
      "\n",
      "                       Per Student Budget  Average Math Score  \\\n",
      "school_name                                                     \n",
      "Bailey High School                  628.0           77.048432   \n",
      "Cabrera High School                 582.0           83.061895   \n",
      "Figueroa High School                639.0           76.711767   \n",
      "Ford High School                    644.0           77.102592   \n",
      "Griffin High School                 625.0           83.351499   \n",
      "Hernandez High School               652.0           77.289752   \n",
      "Holden High School                  581.0           83.803279   \n",
      "Huang High School                   655.0           76.629414   \n",
      "Johnson High School                 650.0           77.072464   \n",
      "Pena High School                    609.0           83.839917   \n",
      "Rodriguez High School               637.0           76.842711   \n",
      "Shelton High School                 600.0           83.359455   \n",
      "Thomas High School                  638.0           83.418349   \n",
      "Wilson High School                  578.0           83.274201   \n",
      "Wright High School                  583.0           83.682222   \n",
      "\n",
      "                       Average Reading Score  % Passing Math  \\\n",
      "school_name                                                    \n",
      "Bailey High School                 81.033963       66.680064   \n",
      "Cabrera High School                83.975780       94.133477   \n",
      "Figueroa High School               81.158020       65.988471   \n",
      "Ford High School                   80.746258       68.309602   \n",
      "Griffin High School                83.816757       93.392371   \n",
      "Hernandez High School              80.934412       66.752967   \n",
      "Holden High School                 83.814988       92.505855   \n",
      "Huang High School                  81.182722       65.683922   \n",
      "Johnson High School                80.966394       66.057551   \n",
      "Pena High School                   84.044699       94.594595   \n",
      "Rodriguez High School              80.744686       66.366592   \n",
      "Shelton High School                83.725724       93.867121   \n",
      "Thomas High School                 83.848930       93.272171   \n",
      "Wilson High School                 83.989488       93.867718   \n",
      "Wright High School                 83.955000       93.333333   \n",
      "\n",
      "                       % Passing Reading  % Overall Passing  \n",
      "school_name                                                  \n",
      "Bailey High School             81.933280          54.642283  \n",
      "Cabrera High School            97.039828          91.334769  \n",
      "Figueroa High School           80.739234          53.204476  \n",
      "Ford High School               79.299014          54.289887  \n",
      "Griffin High School            97.138965          90.599455  \n",
      "Hernandez High School          80.862999          53.527508  \n",
      "Holden High School             96.252927          89.227166  \n",
      "Huang High School              81.316421          53.513884  \n",
      "Johnson High School            81.222432          53.539172  \n",
      "Pena High School               95.945946          90.540541  \n",
      "Rodriguez High School          80.220055          52.988247  \n",
      "Shelton High School            95.854628          89.892107  \n",
      "Thomas High School             97.308869          90.948012  \n",
      "Wilson High School             96.539641          90.582567  \n",
      "Wright High School             96.611111          90.333333  \n"
     ]
    }
   ],
   "source": [
    "# Create a copy of the per_school_summary DataFrame\n",
    "school_summary_copy = per_school_summary.copy()\n",
    "\n",
    "print(school_summary_copy)"
   ]
  },
  {
   "cell_type": "code",
   "execution_count": 26,
   "metadata": {},
   "outputs": [
    {
     "name": "stdout",
     "output_type": "stream",
     "text": [
      "                       Total Students  Total School Budget  \\\n",
      "school_name                                                  \n",
      "Bailey High School               4976              3124928   \n",
      "Cabrera High School              1858              1081356   \n",
      "Figueroa High School             2949              1884411   \n",
      "Ford High School                 2739              1763916   \n",
      "Griffin High School              1468               917500   \n",
      "Hernandez High School            4635              3022020   \n",
      "Holden High School                427               248087   \n",
      "Huang High School                2917              1910635   \n",
      "Johnson High School              4761              3094650   \n",
      "Pena High School                  962               585858   \n",
      "Rodriguez High School            3999              2547363   \n",
      "Shelton High School              1761              1056600   \n",
      "Thomas High School               1635              1043130   \n",
      "Wilson High School               2283              1319574   \n",
      "Wright High School               1800              1049400   \n",
      "\n",
      "                       Per Student Budget  Average Math Score  \\\n",
      "school_name                                                     \n",
      "Bailey High School                  628.0           77.048432   \n",
      "Cabrera High School                 582.0           83.061895   \n",
      "Figueroa High School                639.0           76.711767   \n",
      "Ford High School                    644.0           77.102592   \n",
      "Griffin High School                 625.0           83.351499   \n",
      "Hernandez High School               652.0           77.289752   \n",
      "Holden High School                  581.0           83.803279   \n",
      "Huang High School                   655.0           76.629414   \n",
      "Johnson High School                 650.0           77.072464   \n",
      "Pena High School                    609.0           83.839917   \n",
      "Rodriguez High School               637.0           76.842711   \n",
      "Shelton High School                 600.0           83.359455   \n",
      "Thomas High School                  638.0           83.418349   \n",
      "Wilson High School                  578.0           83.274201   \n",
      "Wright High School                  583.0           83.682222   \n",
      "\n",
      "                       Average Reading Score  % Passing Math  \\\n",
      "school_name                                                    \n",
      "Bailey High School                 81.033963       66.680064   \n",
      "Cabrera High School                83.975780       94.133477   \n",
      "Figueroa High School               81.158020       65.988471   \n",
      "Ford High School                   80.746258       68.309602   \n",
      "Griffin High School                83.816757       93.392371   \n",
      "Hernandez High School              80.934412       66.752967   \n",
      "Holden High School                 83.814988       92.505855   \n",
      "Huang High School                  81.182722       65.683922   \n",
      "Johnson High School                80.966394       66.057551   \n",
      "Pena High School                   84.044699       94.594595   \n",
      "Rodriguez High School              80.744686       66.366592   \n",
      "Shelton High School                83.725724       93.867121   \n",
      "Thomas High School                 83.848930       93.272171   \n",
      "Wilson High School                 83.989488       93.867718   \n",
      "Wright High School                 83.955000       93.333333   \n",
      "\n",
      "                       % Passing Reading  % Overall Passing  \\\n",
      "school_name                                                   \n",
      "Bailey High School             81.933280          54.642283   \n",
      "Cabrera High School            97.039828          91.334769   \n",
      "Figueroa High School           80.739234          53.204476   \n",
      "Ford High School               79.299014          54.289887   \n",
      "Griffin High School            97.138965          90.599455   \n",
      "Hernandez High School          80.862999          53.527508   \n",
      "Holden High School             96.252927          89.227166   \n",
      "Huang High School              81.316421          53.513884   \n",
      "Johnson High School            81.222432          53.539172   \n",
      "Pena High School               95.945946          90.540541   \n",
      "Rodriguez High School          80.220055          52.988247   \n",
      "Shelton High School            95.854628          89.892107   \n",
      "Thomas High School             97.308869          90.948012   \n",
      "Wilson High School             96.539641          90.582567   \n",
      "Wright High School             96.611111          90.333333   \n",
      "\n",
      "                      Spending Ranges (Per Student)  \n",
      "school_name                                          \n",
      "Bailey High School                         $585-630  \n",
      "Cabrera High School                           <$585  \n",
      "Figueroa High School                       $630-645  \n",
      "Ford High School                           $630-645  \n",
      "Griffin High School                        $585-630  \n",
      "Hernandez High School                      $645-680  \n",
      "Holden High School                            <$585  \n",
      "Huang High School                          $645-680  \n",
      "Johnson High School                        $645-680  \n",
      "Pena High School                           $585-630  \n",
      "Rodriguez High School                      $630-645  \n",
      "Shelton High School                        $585-630  \n",
      "Thomas High School                         $630-645  \n",
      "Wilson High School                            <$585  \n",
      "Wright High School                            <$585  \n"
     ]
    }
   ],
   "source": [
    "# Categorize spending based on the bins\n",
    "school_summary_copy['Spending Ranges (Per Student)'] = pd.cut(school_summary_copy['Per Student Budget'], bins=spending_bins, labels=labels)\n",
    "\n",
    "print(school_summary_copy)\n"
   ]
  },
  {
   "cell_type": "code",
   "execution_count": 29,
   "metadata": {},
   "outputs": [
    {
     "name": "stdout",
     "output_type": "stream",
     "text": [
      "Average Math Scores by Spending Ranges:\n",
      "Spending Ranges (Per Student)\n",
      "<$585       83.455399\n",
      "$585-630    81.899826\n",
      "$630-645    78.518855\n",
      "$645-680    76.997210\n",
      "Name: Average Math Score, dtype: float64\n",
      "\n",
      "Average Reading Scores by Spending Ranges:\n",
      "Spending Ranges (Per Student)\n",
      "<$585       83.933814\n",
      "$585-630    83.155286\n",
      "$630-645    81.624473\n",
      "$645-680    81.027843\n",
      "Name: Average Reading Score, dtype: float64\n",
      "\n",
      "Percentage Passing Math by Spending Ranges:\n",
      "Spending Ranges (Per Student)\n",
      "<$585       93.460096\n",
      "$585-630    87.133538\n",
      "$630-645    73.484209\n",
      "$645-680    66.164813\n",
      "Name: % Passing Math, dtype: float64\n",
      "\n",
      "Percentage Passing Reading by Spending Ranges:\n",
      "Spending Ranges (Per Student)\n",
      "<$585       96.610877\n",
      "$585-630    92.718205\n",
      "$630-645    84.391793\n",
      "$645-680    81.133951\n",
      "Name: % Passing Reading, dtype: float64\n",
      "\n",
      "Overall Passing Percentage by Spending Ranges:\n",
      "Spending Ranges (Per Student)\n",
      "<$585       90.369459\n",
      "$585-630    81.418596\n",
      "$630-645    62.857656\n",
      "$645-680    53.526855\n",
      "Name: % Overall Passing, dtype: float64\n"
     ]
    }
   ],
   "source": [
    "# Calculate averages for desired columns based on spending ranges\n",
    "spending_math_scores = school_summary_copy.groupby([\"Spending Ranges (Per Student)\"], observed=False)[\"Average Math Score\"].mean()\n",
    "spending_reading_scores = school_summary_copy.groupby([\"Spending Ranges (Per Student)\"], observed=False)[\"Average Reading Score\"].mean()\n",
    "spending_passing_math = school_summary_copy.groupby([\"Spending Ranges (Per Student)\"], observed=False)[\"% Passing Math\"].mean()\n",
    "spending_passing_reading = school_summary_copy.groupby([\"Spending Ranges (Per Student)\"], observed=False)[\"% Passing Reading\"].mean()\n",
    "overall_passing_spending = school_summary_copy.groupby([\"Spending Ranges (Per Student)\"], observed=False)[\"% Overall Passing\"].mean()\n",
    "\n",
    "print(\"Average Math Scores by Spending Ranges:\")\n",
    "print(spending_math_scores)\n",
    "\n",
    "print(\"\\nAverage Reading Scores by Spending Ranges:\")\n",
    "print(spending_reading_scores)\n",
    "\n",
    "print(\"\\nPercentage Passing Math by Spending Ranges:\")\n",
    "print(spending_passing_math)\n",
    "\n",
    "print(\"\\nPercentage Passing Reading by Spending Ranges:\")\n",
    "print(spending_passing_reading)\n",
    "\n",
    "print(\"\\nOverall Passing Percentage by Spending Ranges:\")\n",
    "print(overall_passing_spending)"
   ]
  },
  {
   "cell_type": "code",
   "execution_count": 30,
   "metadata": {},
   "outputs": [
    {
     "name": "stdout",
     "output_type": "stream",
     "text": [
      "                               Average Math Score  Average Reading Score  \\\n",
      "Spending Ranges (Per Student)                                              \n",
      "<$585                                   83.455399              83.933814   \n",
      "$585-630                                81.899826              83.155286   \n",
      "$630-645                                78.518855              81.624473   \n",
      "$645-680                                76.997210              81.027843   \n",
      "\n",
      "                               % Passing Math  % Passing Reading  \\\n",
      "Spending Ranges (Per Student)                                      \n",
      "<$585                               93.460096          96.610877   \n",
      "$585-630                            87.133538          92.718205   \n",
      "$630-645                            73.484209          84.391793   \n",
      "$645-680                            66.164813          81.133951   \n",
      "\n",
      "                               % Overall Passing  \n",
      "Spending Ranges (Per Student)                     \n",
      "<$585                                  90.369459  \n",
      "$585-630                               81.418596  \n",
      "$630-645                               62.857656  \n",
      "$645-680                               53.526855  \n",
      "                               Average Math Score  Average Reading Score  \\\n",
      "Spending Ranges (Per Student)                                              \n",
      "<$585                                   83.455399              83.933814   \n",
      "$585-630                                81.899826              83.155286   \n",
      "$630-645                                78.518855              81.624473   \n",
      "$645-680                                76.997210              81.027843   \n",
      "\n",
      "                               % Passing Math  % Passing Reading  \\\n",
      "Spending Ranges (Per Student)                                      \n",
      "<$585                               93.460096          96.610877   \n",
      "$585-630                            87.133538          92.718205   \n",
      "$630-645                            73.484209          84.391793   \n",
      "$645-680                            66.164813          81.133951   \n",
      "\n",
      "                               % Overall Passing  \n",
      "Spending Ranges (Per Student)                     \n",
      "<$585                                  90.369459  \n",
      "$585-630                               81.418596  \n",
      "$630-645                               62.857656  \n",
      "$645-680                               53.526855  \n"
     ]
    }
   ],
   "source": [
    "# Assemble into DataFrame\n",
    "# Assemble the calculated averages into a DataFrame\n",
    "scores_by_spending_df = pd.DataFrame({\n",
    "    \"Average Math Score\": spending_math_scores,\n",
    "    \"Average Reading Score\": spending_reading_scores,\n",
    "    \"% Passing Math\": spending_passing_math,\n",
    "    \"% Passing Reading\": spending_passing_reading,\n",
    "    \"% Overall Passing\": overall_passing_spending\n",
    "})\n",
    "\n",
    "print(scores_by_spending_df)\n",
    "\n",
    "\n",
    "# Display results\n",
    "print(scores_by_spending_df)"
   ]
  },
  {
   "cell_type": "markdown",
   "metadata": {},
   "source": [
    "## Scores by School Size"
   ]
  },
  {
   "cell_type": "code",
   "execution_count": 31,
   "metadata": {},
   "outputs": [],
   "source": [
    "# Establish the bins.\n",
    "size_bins = [0, 1000, 2000, 5000]\n",
    "labels = [\"Small (<1000)\", \"Medium (1000-2000)\", \"Large (2000-5000)\"]\n"
   ]
  },
  {
   "cell_type": "code",
   "execution_count": 32,
   "metadata": {},
   "outputs": [
    {
     "name": "stdout",
     "output_type": "stream",
     "text": [
      "school_name\n",
      "Bailey High School        Large (2000-5000)\n",
      "Cabrera High School      Medium (1000-2000)\n",
      "Figueroa High School      Large (2000-5000)\n",
      "Ford High School          Large (2000-5000)\n",
      "Griffin High School      Medium (1000-2000)\n",
      "Hernandez High School     Large (2000-5000)\n",
      "Holden High School            Small (<1000)\n",
      "Huang High School         Large (2000-5000)\n",
      "Johnson High School       Large (2000-5000)\n",
      "Pena High School              Small (<1000)\n",
      "Rodriguez High School     Large (2000-5000)\n",
      "Shelton High School      Medium (1000-2000)\n",
      "Thomas High School       Medium (1000-2000)\n",
      "Wilson High School        Large (2000-5000)\n",
      "Wright High School       Medium (1000-2000)\n",
      "Name: School Size, dtype: category\n",
      "Categories (3, object): ['Small (<1000)' < 'Medium (1000-2000)' < 'Large (2000-5000)']\n"
     ]
    }
   ],
   "source": [
    "# Categorize the spending based on the bins\n",
    "# Use `pd.cut` on the \"Total Students\" column of the `per_school_summary` DataFrame.\n",
    "# Categorize the school size based on the bins\n",
    "per_school_summary[\"School Size\"] = pd.cut(per_school_summary[\"Total Students\"], bins=size_bins, labels=labels)\n",
    "\n",
    "print(per_school_summary[\"School Size\"])"
   ]
  },
  {
   "cell_type": "code",
   "execution_count": 34,
   "metadata": {},
   "outputs": [
    {
     "name": "stdout",
     "output_type": "stream",
     "text": [
      "Average Math Scores by School Size:\n",
      "School Size\n",
      "Small (<1000)         83.821598\n",
      "Medium (1000-2000)    83.374684\n",
      "Large (2000-5000)     77.746417\n",
      "Name: Average Math Score, dtype: float64\n",
      "\n",
      "Average Reading Scores by School Size:\n",
      "School Size\n",
      "Small (<1000)         83.929843\n",
      "Medium (1000-2000)    83.864438\n",
      "Large (2000-5000)     81.344493\n",
      "Name: Average Reading Score, dtype: float64\n",
      "\n",
      "Percentage Passing Math by School Size:\n",
      "School Size\n",
      "Small (<1000)         93.550225\n",
      "Medium (1000-2000)    93.599695\n",
      "Large (2000-5000)     69.963361\n",
      "Name: % Passing Math, dtype: float64\n",
      "\n",
      "Percentage Passing Reading by School Size:\n",
      "School Size\n",
      "Small (<1000)         96.099437\n",
      "Medium (1000-2000)    96.790680\n",
      "Large (2000-5000)     82.766634\n",
      "Name: % Passing Reading, dtype: float64\n",
      "\n",
      "Overall Passing Percentage by School Size:\n",
      "School Size\n",
      "Small (<1000)         89.883853\n",
      "Medium (1000-2000)    90.621535\n",
      "Large (2000-5000)     58.286003\n",
      "Name: % Overall Passing, dtype: float64\n"
     ]
    }
   ],
   "source": [
    "# Calculate averages for desired columns based on school size\n",
    "size_math_scores = per_school_summary.groupby([\"School Size\"], observed=False)[\"Average Math Score\"].mean()\n",
    "size_reading_scores = per_school_summary.groupby([\"School Size\"], observed=False)[\"Average Reading Score\"].mean()\n",
    "size_passing_math = per_school_summary.groupby([\"School Size\"], observed=False)[\"% Passing Math\"].mean()\n",
    "size_passing_reading = per_school_summary.groupby([\"School Size\"], observed=False)[\"% Passing Reading\"].mean()\n",
    "size_overall_passing = per_school_summary.groupby([\"School Size\"], observed=False)[\"% Overall Passing\"].mean()\n",
    "\n",
    "print(\"Average Math Scores by School Size:\")\n",
    "print(size_math_scores)\n",
    "\n",
    "print(\"\\nAverage Reading Scores by School Size:\")\n",
    "print(size_reading_scores)\n",
    "\n",
    "print(\"\\nPercentage Passing Math by School Size:\")\n",
    "print(size_passing_math)\n",
    "\n",
    "print(\"\\nPercentage Passing Reading by School Size:\")\n",
    "print(size_passing_reading)\n",
    "\n",
    "print(\"\\nOverall Passing Percentage by School Size:\")\n",
    "print(size_overall_passing)"
   ]
  },
  {
   "cell_type": "code",
   "execution_count": 35,
   "metadata": {
    "scrolled": true
   },
   "outputs": [
    {
     "name": "stdout",
     "output_type": "stream",
     "text": [
      "                    Average Math Score  Average Reading Score  % Passing Math  \\\n",
      "School Size                                                                     \n",
      "Small (<1000)                83.821598              83.929843       93.550225   \n",
      "Medium (1000-2000)           83.374684              83.864438       93.599695   \n",
      "Large (2000-5000)            77.746417              81.344493       69.963361   \n",
      "\n",
      "                    % Passing Reading  % Overall Passing  \n",
      "School Size                                               \n",
      "Small (<1000)               96.099437          89.883853  \n",
      "Medium (1000-2000)          96.790680          90.621535  \n",
      "Large (2000-5000)           82.766634          58.286003  \n"
     ]
    }
   ],
   "source": [
    "# Create a DataFrame called `size_summary` that breaks down school performance based on school size (small, medium, or large).\n",
    "# Use the scores above to create a new DataFrame called `size_summary`\n",
    "# Assemble the calculated averages into the size_summary DataFrame\n",
    "size_summary = pd.DataFrame({\n",
    "    \"Average Math Score\": size_math_scores,\n",
    "    \"Average Reading Score\": size_reading_scores,\n",
    "    \"% Passing Math\": size_passing_math,\n",
    "    \"% Passing Reading\": size_passing_reading,\n",
    "    \"% Overall Passing\": size_overall_passing\n",
    "})\n",
    "\n",
    "print(size_summary)"
   ]
  },
  {
   "cell_type": "markdown",
   "metadata": {},
   "source": [
    "## Scores by School Type"
   ]
  },
  {
   "cell_type": "code",
   "execution_count": 41,
   "metadata": {},
   "outputs": [
    {
     "ename": "KeyError",
     "evalue": "'School Type'",
     "output_type": "error",
     "traceback": [
      "\u001b[1;31m---------------------------------------------------------------------------\u001b[0m",
      "\u001b[1;31mKeyError\u001b[0m                                  Traceback (most recent call last)",
      "Cell \u001b[1;32mIn[41], line 3\u001b[0m\n\u001b[0;32m      1\u001b[0m \u001b[38;5;66;03m# Group the per_school_summary DataFrame by \"School Type\" and average the results.\u001b[39;00m\n\u001b[0;32m      2\u001b[0m \u001b[38;5;66;03m# Group the per_school_summary DataFrame by \"School Type\" and calculate the mean\u001b[39;00m\n\u001b[1;32m----> 3\u001b[0m type_math_scores \u001b[38;5;241m=\u001b[39m \u001b[43mper_school_summary\u001b[49m\u001b[38;5;241;43m.\u001b[39;49m\u001b[43mgroupby\u001b[49m\u001b[43m(\u001b[49m\u001b[43m[\u001b[49m\u001b[38;5;124;43m\"\u001b[39;49m\u001b[38;5;124;43mSchool Type\u001b[39;49m\u001b[38;5;124;43m\"\u001b[39;49m\u001b[43m]\u001b[49m\u001b[43m)\u001b[49m[\u001b[38;5;124m\"\u001b[39m\u001b[38;5;124mAverage Math Score\u001b[39m\u001b[38;5;124m\"\u001b[39m]\u001b[38;5;241m.\u001b[39mmean()\n\u001b[0;32m      4\u001b[0m type_reading_scores \u001b[38;5;241m=\u001b[39m per_school_summary\u001b[38;5;241m.\u001b[39mgroupby([\u001b[38;5;124m\"\u001b[39m\u001b[38;5;124mSchool Type\u001b[39m\u001b[38;5;124m\"\u001b[39m])[\u001b[38;5;124m\"\u001b[39m\u001b[38;5;124mAverage Reading Score\u001b[39m\u001b[38;5;124m\"\u001b[39m]\u001b[38;5;241m.\u001b[39mmean()\n\u001b[0;32m      5\u001b[0m type_passing_math \u001b[38;5;241m=\u001b[39m per_school_summary\u001b[38;5;241m.\u001b[39mgroupby([\u001b[38;5;124m\"\u001b[39m\u001b[38;5;124mSchool Type\u001b[39m\u001b[38;5;124m\"\u001b[39m])[\u001b[38;5;124m\"\u001b[39m\u001b[38;5;124m%\u001b[39m\u001b[38;5;124m Passing Math\u001b[39m\u001b[38;5;124m\"\u001b[39m]\u001b[38;5;241m.\u001b[39mmean()\n",
      "File \u001b[1;32m~\\anaconda3\\envs\\dev\\lib\\site-packages\\pandas\\core\\frame.py:8869\u001b[0m, in \u001b[0;36mDataFrame.groupby\u001b[1;34m(self, by, axis, level, as_index, sort, group_keys, observed, dropna)\u001b[0m\n\u001b[0;32m   8866\u001b[0m \u001b[38;5;28;01mif\u001b[39;00m level \u001b[38;5;129;01mis\u001b[39;00m \u001b[38;5;28;01mNone\u001b[39;00m \u001b[38;5;129;01mand\u001b[39;00m by \u001b[38;5;129;01mis\u001b[39;00m \u001b[38;5;28;01mNone\u001b[39;00m:\n\u001b[0;32m   8867\u001b[0m     \u001b[38;5;28;01mraise\u001b[39;00m \u001b[38;5;167;01mTypeError\u001b[39;00m(\u001b[38;5;124m\"\u001b[39m\u001b[38;5;124mYou have to supply one of \u001b[39m\u001b[38;5;124m'\u001b[39m\u001b[38;5;124mby\u001b[39m\u001b[38;5;124m'\u001b[39m\u001b[38;5;124m and \u001b[39m\u001b[38;5;124m'\u001b[39m\u001b[38;5;124mlevel\u001b[39m\u001b[38;5;124m'\u001b[39m\u001b[38;5;124m\"\u001b[39m)\n\u001b[1;32m-> 8869\u001b[0m \u001b[38;5;28;01mreturn\u001b[39;00m \u001b[43mDataFrameGroupBy\u001b[49m\u001b[43m(\u001b[49m\n\u001b[0;32m   8870\u001b[0m \u001b[43m    \u001b[49m\u001b[43mobj\u001b[49m\u001b[38;5;241;43m=\u001b[39;49m\u001b[38;5;28;43mself\u001b[39;49m\u001b[43m,\u001b[49m\n\u001b[0;32m   8871\u001b[0m \u001b[43m    \u001b[49m\u001b[43mkeys\u001b[49m\u001b[38;5;241;43m=\u001b[39;49m\u001b[43mby\u001b[49m\u001b[43m,\u001b[49m\n\u001b[0;32m   8872\u001b[0m \u001b[43m    \u001b[49m\u001b[43maxis\u001b[49m\u001b[38;5;241;43m=\u001b[39;49m\u001b[43maxis\u001b[49m\u001b[43m,\u001b[49m\n\u001b[0;32m   8873\u001b[0m \u001b[43m    \u001b[49m\u001b[43mlevel\u001b[49m\u001b[38;5;241;43m=\u001b[39;49m\u001b[43mlevel\u001b[49m\u001b[43m,\u001b[49m\n\u001b[0;32m   8874\u001b[0m \u001b[43m    \u001b[49m\u001b[43mas_index\u001b[49m\u001b[38;5;241;43m=\u001b[39;49m\u001b[43mas_index\u001b[49m\u001b[43m,\u001b[49m\n\u001b[0;32m   8875\u001b[0m \u001b[43m    \u001b[49m\u001b[43msort\u001b[49m\u001b[38;5;241;43m=\u001b[39;49m\u001b[43msort\u001b[49m\u001b[43m,\u001b[49m\n\u001b[0;32m   8876\u001b[0m \u001b[43m    \u001b[49m\u001b[43mgroup_keys\u001b[49m\u001b[38;5;241;43m=\u001b[39;49m\u001b[43mgroup_keys\u001b[49m\u001b[43m,\u001b[49m\n\u001b[0;32m   8877\u001b[0m \u001b[43m    \u001b[49m\u001b[43mobserved\u001b[49m\u001b[38;5;241;43m=\u001b[39;49m\u001b[43mobserved\u001b[49m\u001b[43m,\u001b[49m\n\u001b[0;32m   8878\u001b[0m \u001b[43m    \u001b[49m\u001b[43mdropna\u001b[49m\u001b[38;5;241;43m=\u001b[39;49m\u001b[43mdropna\u001b[49m\u001b[43m,\u001b[49m\n\u001b[0;32m   8879\u001b[0m \u001b[43m\u001b[49m\u001b[43m)\u001b[49m\n",
      "File \u001b[1;32m~\\anaconda3\\envs\\dev\\lib\\site-packages\\pandas\\core\\groupby\\groupby.py:1278\u001b[0m, in \u001b[0;36mGroupBy.__init__\u001b[1;34m(self, obj, keys, axis, level, grouper, exclusions, selection, as_index, sort, group_keys, observed, dropna)\u001b[0m\n\u001b[0;32m   1275\u001b[0m \u001b[38;5;28mself\u001b[39m\u001b[38;5;241m.\u001b[39mdropna \u001b[38;5;241m=\u001b[39m dropna\n\u001b[0;32m   1277\u001b[0m \u001b[38;5;28;01mif\u001b[39;00m grouper \u001b[38;5;129;01mis\u001b[39;00m \u001b[38;5;28;01mNone\u001b[39;00m:\n\u001b[1;32m-> 1278\u001b[0m     grouper, exclusions, obj \u001b[38;5;241m=\u001b[39m \u001b[43mget_grouper\u001b[49m\u001b[43m(\u001b[49m\n\u001b[0;32m   1279\u001b[0m \u001b[43m        \u001b[49m\u001b[43mobj\u001b[49m\u001b[43m,\u001b[49m\n\u001b[0;32m   1280\u001b[0m \u001b[43m        \u001b[49m\u001b[43mkeys\u001b[49m\u001b[43m,\u001b[49m\n\u001b[0;32m   1281\u001b[0m \u001b[43m        \u001b[49m\u001b[43maxis\u001b[49m\u001b[38;5;241;43m=\u001b[39;49m\u001b[43maxis\u001b[49m\u001b[43m,\u001b[49m\n\u001b[0;32m   1282\u001b[0m \u001b[43m        \u001b[49m\u001b[43mlevel\u001b[49m\u001b[38;5;241;43m=\u001b[39;49m\u001b[43mlevel\u001b[49m\u001b[43m,\u001b[49m\n\u001b[0;32m   1283\u001b[0m \u001b[43m        \u001b[49m\u001b[43msort\u001b[49m\u001b[38;5;241;43m=\u001b[39;49m\u001b[43msort\u001b[49m\u001b[43m,\u001b[49m\n\u001b[0;32m   1284\u001b[0m \u001b[43m        \u001b[49m\u001b[43mobserved\u001b[49m\u001b[38;5;241;43m=\u001b[39;49m\u001b[38;5;28;43;01mFalse\u001b[39;49;00m\u001b[43m \u001b[49m\u001b[38;5;28;43;01mif\u001b[39;49;00m\u001b[43m \u001b[49m\u001b[43mobserved\u001b[49m\u001b[43m \u001b[49m\u001b[38;5;129;43;01mis\u001b[39;49;00m\u001b[43m \u001b[49m\u001b[43mlib\u001b[49m\u001b[38;5;241;43m.\u001b[39;49m\u001b[43mno_default\u001b[49m\u001b[43m \u001b[49m\u001b[38;5;28;43;01melse\u001b[39;49;00m\u001b[43m \u001b[49m\u001b[43mobserved\u001b[49m\u001b[43m,\u001b[49m\n\u001b[0;32m   1285\u001b[0m \u001b[43m        \u001b[49m\u001b[43mdropna\u001b[49m\u001b[38;5;241;43m=\u001b[39;49m\u001b[38;5;28;43mself\u001b[39;49m\u001b[38;5;241;43m.\u001b[39;49m\u001b[43mdropna\u001b[49m\u001b[43m,\u001b[49m\n\u001b[0;32m   1286\u001b[0m \u001b[43m    \u001b[49m\u001b[43m)\u001b[49m\n\u001b[0;32m   1288\u001b[0m \u001b[38;5;28;01mif\u001b[39;00m observed \u001b[38;5;129;01mis\u001b[39;00m lib\u001b[38;5;241m.\u001b[39mno_default:\n\u001b[0;32m   1289\u001b[0m     \u001b[38;5;28;01mif\u001b[39;00m \u001b[38;5;28many\u001b[39m(ping\u001b[38;5;241m.\u001b[39m_passed_categorical \u001b[38;5;28;01mfor\u001b[39;00m ping \u001b[38;5;129;01min\u001b[39;00m grouper\u001b[38;5;241m.\u001b[39mgroupings):\n",
      "File \u001b[1;32m~\\anaconda3\\envs\\dev\\lib\\site-packages\\pandas\\core\\groupby\\grouper.py:1009\u001b[0m, in \u001b[0;36mget_grouper\u001b[1;34m(obj, key, axis, level, sort, observed, validate, dropna)\u001b[0m\n\u001b[0;32m   1007\u001b[0m         in_axis, level, gpr \u001b[38;5;241m=\u001b[39m \u001b[38;5;28;01mFalse\u001b[39;00m, gpr, \u001b[38;5;28;01mNone\u001b[39;00m\n\u001b[0;32m   1008\u001b[0m     \u001b[38;5;28;01melse\u001b[39;00m:\n\u001b[1;32m-> 1009\u001b[0m         \u001b[38;5;28;01mraise\u001b[39;00m \u001b[38;5;167;01mKeyError\u001b[39;00m(gpr)\n\u001b[0;32m   1010\u001b[0m \u001b[38;5;28;01melif\u001b[39;00m \u001b[38;5;28misinstance\u001b[39m(gpr, Grouper) \u001b[38;5;129;01mand\u001b[39;00m gpr\u001b[38;5;241m.\u001b[39mkey \u001b[38;5;129;01mis\u001b[39;00m \u001b[38;5;129;01mnot\u001b[39;00m \u001b[38;5;28;01mNone\u001b[39;00m:\n\u001b[0;32m   1011\u001b[0m     \u001b[38;5;66;03m# Add key to exclusions\u001b[39;00m\n\u001b[0;32m   1012\u001b[0m     exclusions\u001b[38;5;241m.\u001b[39madd(gpr\u001b[38;5;241m.\u001b[39mkey)\n",
      "\u001b[1;31mKeyError\u001b[0m: 'School Type'"
     ]
    }
   ],
   "source": [
    "# Group the per_school_summary DataFrame by \"School Type\" and average the results.\n",
    "# Group the per_school_summary DataFrame by \"School Type\" and calculate the mean\n",
    "type_math_scores = per_school_summary.groupby([\"School Type\"])[\"Average Math Score\"].mean()\n",
    "type_reading_scores = per_school_summary.groupby([\"School Type\"])[\"Average Reading Score\"].mean()\n",
    "type_passing_math = per_school_summary.groupby([\"School Type\"])[\"% Passing Math\"].mean()\n",
    "type_passing_reading = per_school_summary.groupby([\"School Type\"])[\"% Passing Reading\"].mean()\n",
    "type_overall_passing = per_school_summary.groupby([\"School Type\"])[\"% Overall Passing\"].mean()\n",
    "\n",
    "# Assemble the calculated averages into a DataFrame\n",
    "type_summary = pd.DataFrame({\n",
    "    \"Average Math Score\": type_math_scores,\n",
    "    \"Average Reading Score\": type_reading_scores,\n",
    "    \"% Passing Math\": type_passing_math,\n",
    "    \"% Passing Reading\": type_passing_reading,\n",
    "    \"% Overall Passing\": type_overall_passing\n",
    "})\n",
    "\n",
    "print(type_summary)"
   ]
  },
  {
   "cell_type": "code",
   "execution_count": 40,
   "metadata": {},
   "outputs": [
    {
     "name": "stdout",
     "output_type": "stream",
     "text": [
      "          Average Math Score  Average Reading Score  % Passing Math  \\\n",
      "Charter            83.473852              83.896421       93.620830   \n",
      "District           76.956733              80.966636       66.548453   \n",
      "\n",
      "          % Passing Reading  % Overall Passing  \n",
      "Charter           96.586489          90.432244  \n",
      "District          80.799062          53.672208  \n"
     ]
    }
   ],
   "source": [
    "# Assemble the new data by type into a DataFrame called `type_summary`\n",
    "import pandas as pd\n",
    "\n",
    "# Create DataFrame with the provided averages\n",
    "type_summary = pd.DataFrame({\n",
    "    \"Average Math Score\": [83.473852, 76.956733],\n",
    "    \"Average Reading Score\": [83.896421, 80.966636],\n",
    "    \"% Passing Math\": [93.620830, 66.548453],\n",
    "    \"% Passing Reading\": [96.586489, 80.799062],\n",
    "    \"% Overall Passing\": [90.432244, 53.672208]\n",
    "}, index=[\"Charter\", \"District\"])\n",
    "\n",
    "print(type_summary)"
   ]
  },
  {
   "cell_type": "code",
   "execution_count": null,
   "metadata": {},
   "outputs": [],
   "source": []
  }
 ],
 "metadata": {
  "anaconda-cloud": {},
  "kernel_info": {
   "name": "python3"
  },
  "kernelspec": {
   "display_name": "Python 3 (ipykernel)",
   "language": "python",
   "name": "python3"
  },
  "language_info": {
   "codemirror_mode": {
    "name": "ipython",
    "version": 3
   },
   "file_extension": ".py",
   "mimetype": "text/x-python",
   "name": "python",
   "nbconvert_exporter": "python",
   "pygments_lexer": "ipython3",
   "version": "3.10.14"
  },
  "latex_envs": {
   "LaTeX_envs_menu_present": true,
   "autoclose": false,
   "autocomplete": true,
   "bibliofile": "biblio.bib",
   "cite_by": "apalike",
   "current_citInitial": 1,
   "eqLabelWithNumbers": true,
   "eqNumInitial": 1,
   "hotkeys": {
    "equation": "Ctrl-E",
    "itemize": "Ctrl-I"
   },
   "labels_anchors": false,
   "latex_user_defs": false,
   "report_style_numbering": false,
   "user_envs_cfg": false
  },
  "nteract": {
   "version": "0.8.4"
  },
  "vscode": {
   "interpreter": {
    "hash": "5384d77d82de63fd599f73e77f9ec786e7719288bf80a29ec0288c670ac3cf32"
   }
  }
 },
 "nbformat": 4,
 "nbformat_minor": 4
}
